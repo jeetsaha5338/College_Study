{
 "cells": [
  {
   "cell_type": "code",
   "execution_count": 31,
   "metadata": {},
   "outputs": [
    {
     "name": "stdout",
     "output_type": "stream",
     "text": [
      "(150, 4)\n",
      "(50, 4)\n"
     ]
    }
   ],
   "source": [
    "import numpy as np\n",
    "import pandas as pd\n",
    "import matplotlib.pyplot as plt\n",
    "%matplotlib inline\n",
    "data=pd.read_csv('http://www-bcf.usc.edu/~gareth/ISL/Advertising.csv',index_col=0)#FISRT ER TA INDEX HISABE NEOAR JNNE\n",
    "data.head()\n",
    "data_train=data[0:150]\n",
    "data_test=data[150:]\n",
    "print(data_train.shape)\n",
    "print(data_test.shape)\n",
    "\n"
   ]
  },
  {
   "cell_type": "code",
   "execution_count": 34,
   "metadata": {},
   "outputs": [
    {
     "data": {
      "text/plain": [
       "Intercept    7.110732\n",
       "TV           0.049063\n",
       "dtype: float64"
      ]
     },
     "execution_count": 34,
     "metadata": {},
     "output_type": "execute_result"
    }
   ],
   "source": [
    "import statsmodels.formula.api as smf\n",
    "lm = smf.ols(formula='sales~TV', data=data_train).fit()  #ordinary list square(ols) #fit ta regerssion kore TRAINING DATA\n",
    "lm.params #print the coeffiecients"
   ]
  },
  {
   "cell_type": "code",
   "execution_count": 35,
   "metadata": {},
   "outputs": [
    {
     "name": "stdout",
     "output_type": "stream",
     "text": [
      "3.62970347937\n"
     ]
    }
   ],
   "source": [
    "x=data_test['TV']\n",
    "y_pre=lm.predict(x)\n",
    "#print(x)\n",
    "y_ac=np.array(data_test['sales'])#ACTUAL CELLS\n",
    "y_np=np.array(y_pre)#PREDICTED CELLS\n",
    "#print(y_ac)\n",
    "#print(y_np)\n",
    "er1=(y_ac-y_np)**2\n",
    "er1_mean=np.mean(er1)\n",
    "er1_sqrt=np.sqrt(er1_mean)\n",
    "print(er1_sqrt)\n"
   ]
  },
  {
   "cell_type": "code",
   "execution_count": null,
   "metadata": {
    "collapsed": true
   },
   "outputs": [],
   "source": []
  }
 ],
 "metadata": {
  "kernelspec": {
   "display_name": "Python 3",
   "language": "python",
   "name": "python3"
  },
  "language_info": {
   "codemirror_mode": {
    "name": "ipython",
    "version": 3
   },
   "file_extension": ".py",
   "mimetype": "text/x-python",
   "name": "python",
   "nbconvert_exporter": "python",
   "pygments_lexer": "ipython3",
   "version": "3.6.3"
  }
 },
 "nbformat": 4,
 "nbformat_minor": 2
}
