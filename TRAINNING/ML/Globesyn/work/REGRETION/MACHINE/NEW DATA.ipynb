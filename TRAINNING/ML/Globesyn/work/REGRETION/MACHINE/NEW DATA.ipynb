{
 "cells": [
  {
   "cell_type": "code",
   "execution_count": 1,
   "metadata": {
    "scrolled": true
   },
   "outputs": [
    {
     "name": "stdout",
     "output_type": "stream",
     "text": [
      "                       one  two  three   four  five  six  seven  eight  nine\n",
      "adviser              32/60  125    256   6000   256   16    128    198   199\n",
      "amdahl              470v/7   29   8000  32000    32    8     32    269   253\n",
      "amdahl             470v/7a   29   8000  32000    32    8     32    220   253\n",
      "amdahl             470v/7b   29   8000  32000    32    8     32    172   253\n",
      "amdahl             470v/7c   29   8000  16000    32    8     16    132   132\n",
      "amdahl              470v/b   26   8000  32000    64    8     32    318   290\n",
      "amdahl            580-5840   23  16000  32000    64   16     32    367   381\n",
      "amdahl            580-5850   23  16000  32000    64   16     32    489   381\n",
      "amdahl            580-5860   23  16000  64000    64   16     32    636   749\n",
      "amdahl            580-5880   23  32000  64000   128   32     64   1144  1238\n",
      "apollo               dn320  400   1000   3000     0    1      2     38    23\n",
      "apollo               dn420  400    512   3500     4    1      6     40    24\n",
      "basf                  7/65   60   2000   8000    65    1      8     92    70\n",
      "basf                  7/68   50   4000  16000    65    1      8    138   117\n",
      "bti                   5000  350     64     64     0    1      4     10    15\n",
      "bti                   8000  200    512  16000     0    4     32     35    64\n",
      "burroughs            b1955  167    524   2000     8    4     15     19    23\n",
      "burroughs            b2900  143    512   5000     0    7     32     28    29\n",
      "burroughs            b2925  143   1000   2000     0    5     16     31    22\n",
      "burroughs            b4955  110   5000   5000   142    8     64    120   124\n",
      "burroughs            b5900  143   1500   6300     0    5     32     30    35\n",
      "burroughs            b5920  143   3100   6200     0    5     20     33    39\n",
      "burroughs            b6900  143   2300   6200     0    6     64     61    40\n",
      "burroughs            b6925  110   3100   6200     0    6     64     76    45\n",
      "c.r.d             68/10-80  320    128   6000     0    1     12     23    28\n",
      "c.r.d       universe:2203t  320    512   2000     4    1      3     69    21\n",
      "c.r.d          universe:68  320    256   6000     0    1      6     33    28\n",
      "c.r.d       universe:68/05  320    256   3000     4    1      3     27    22\n",
      "c.r.d      universe:68/137  320    512   5000     4    1      5     77    28\n",
      "c.r.d       universe:68/37  320    256   5000     4    1      6     27    27\n",
      "...                    ...  ...    ...    ...   ...  ...    ...    ...   ...\n",
      "prime            50-750-ii  160   1000   8000    16    1     14     60    43\n",
      "prime            50-850-ii  160   2000   8000    32    1     13    109    53\n",
      "siemens              7.521  240    512   1000     8    1      3      6    19\n",
      "siemens              7.531  240    512   2000     8    1      5     11    22\n",
      "siemens              7.536  105   2000   4000     8    3      8     22    31\n",
      "siemens              7.541  105   2000   6000    16    6     16     33    41\n",
      "siemens              7.551  105   2000   8000    16    4     14     58    47\n",
      "siemens              7.561   52   4000  16000    32    4     12    130    99\n",
      "siemens            7.865-2   70   4000  12000     8    6      8     75    67\n",
      "siemens            7.870-2   59   4000  12000    32    6     12    113    81\n",
      "siemens            7.872-2   59   8000  16000    64   12     24    188   149\n",
      "siemens            7.875-2   26   8000  24000    32    8     16    173   183\n",
      "siemens            7.880-2   26   8000  32000    64   12     16    248   275\n",
      "siemens            7.881-2   26   8000  32000   128   24     32    405   382\n",
      "sperry          1100/61-h1  116   2000   8000    32    5     28     70    56\n",
      "sperry             1100/81   50   2000  32000    24    6     26    114   182\n",
      "sperry             1100/82   50   2000  32000    48   26     52    208   227\n",
      "sperry             1100/83   50   2000  32000   112   52    104    307   341\n",
      "sperry             1100/84   50   4000  32000   112   52    104    397   360\n",
      "sperry             1100/93   30   8000  64000    96   12    176    915   919\n",
      "sperry             1100/94   30   8000  64000   128   12    176   1150   978\n",
      "sperry                80/3  180    262   4000     0    1      3     12    24\n",
      "sperry                80/4  180    512   4000     0    1      3     14    24\n",
      "sperry                80/5  180    262   4000     0    1      3     18    24\n",
      "sperry                80/6  180    512   4000     0    1      3     21    24\n",
      "sperry                80/8  124   1000   8000     0    1      8     42    37\n",
      "sperry       90/80-model-3   98   1000   8000    32    2      8     46    50\n",
      "sratus                  32  125   2000   8000     0    2     14     52    41\n",
      "wang                vs-100  480    512   8000    32    0      0     67    47\n",
      "wang                 vs-90  480   1000   4000     0    0      0     45    25\n",
      "\n",
      "[209 rows x 9 columns]\n",
      "(120, 9)\n",
      "(89, 9)\n",
      "                       one  two  three   four  five  six  seven  eight  nine\n",
      "adviser              32/60  125    256   6000   256   16    128    198   199\n",
      "amdahl              470v/7   29   8000  32000    32    8     32    269   253\n",
      "amdahl             470v/7a   29   8000  32000    32    8     32    220   253\n",
      "amdahl             470v/7b   29   8000  32000    32    8     32    172   253\n",
      "amdahl             470v/7c   29   8000  16000    32    8     16    132   132\n",
      "amdahl              470v/b   26   8000  32000    64    8     32    318   290\n",
      "amdahl            580-5840   23  16000  32000    64   16     32    367   381\n",
      "amdahl            580-5850   23  16000  32000    64   16     32    489   381\n",
      "amdahl            580-5860   23  16000  64000    64   16     32    636   749\n",
      "amdahl            580-5880   23  32000  64000   128   32     64   1144  1238\n",
      "apollo               dn320  400   1000   3000     0    1      2     38    23\n",
      "apollo               dn420  400    512   3500     4    1      6     40    24\n",
      "basf                  7/65   60   2000   8000    65    1      8     92    70\n",
      "basf                  7/68   50   4000  16000    65    1      8    138   117\n",
      "bti                   5000  350     64     64     0    1      4     10    15\n",
      "bti                   8000  200    512  16000     0    4     32     35    64\n",
      "burroughs            b1955  167    524   2000     8    4     15     19    23\n",
      "burroughs            b2900  143    512   5000     0    7     32     28    29\n",
      "burroughs            b2925  143   1000   2000     0    5     16     31    22\n",
      "burroughs            b4955  110   5000   5000   142    8     64    120   124\n",
      "burroughs            b5900  143   1500   6300     0    5     32     30    35\n",
      "burroughs            b5920  143   3100   6200     0    5     20     33    39\n",
      "burroughs            b6900  143   2300   6200     0    6     64     61    40\n",
      "burroughs            b6925  110   3100   6200     0    6     64     76    45\n",
      "c.r.d             68/10-80  320    128   6000     0    1     12     23    28\n",
      "c.r.d       universe:2203t  320    512   2000     4    1      3     69    21\n",
      "c.r.d          universe:68  320    256   6000     0    1      6     33    28\n",
      "c.r.d       universe:68/05  320    256   3000     4    1      3     27    22\n",
      "c.r.d      universe:68/137  320    512   5000     4    1      5     77    28\n",
      "c.r.d       universe:68/37  320    256   5000     4    1      6     27    27\n",
      "...                    ...  ...    ...    ...   ...  ...    ...    ...   ...\n",
      "prime            50-750-ii  160   1000   8000    16    1     14     60    43\n",
      "prime            50-850-ii  160   2000   8000    32    1     13    109    53\n",
      "siemens              7.521  240    512   1000     8    1      3      6    19\n",
      "siemens              7.531  240    512   2000     8    1      5     11    22\n",
      "siemens              7.536  105   2000   4000     8    3      8     22    31\n",
      "siemens              7.541  105   2000   6000    16    6     16     33    41\n",
      "siemens              7.551  105   2000   8000    16    4     14     58    47\n",
      "siemens              7.561   52   4000  16000    32    4     12    130    99\n",
      "siemens            7.865-2   70   4000  12000     8    6      8     75    67\n",
      "siemens            7.870-2   59   4000  12000    32    6     12    113    81\n",
      "siemens            7.872-2   59   8000  16000    64   12     24    188   149\n",
      "siemens            7.875-2   26   8000  24000    32    8     16    173   183\n",
      "siemens            7.880-2   26   8000  32000    64   12     16    248   275\n",
      "siemens            7.881-2   26   8000  32000   128   24     32    405   382\n",
      "sperry          1100/61-h1  116   2000   8000    32    5     28     70    56\n",
      "sperry             1100/81   50   2000  32000    24    6     26    114   182\n",
      "sperry             1100/82   50   2000  32000    48   26     52    208   227\n",
      "sperry             1100/83   50   2000  32000   112   52    104    307   341\n",
      "sperry             1100/84   50   4000  32000   112   52    104    397   360\n",
      "sperry             1100/93   30   8000  64000    96   12    176    915   919\n",
      "sperry             1100/94   30   8000  64000   128   12    176   1150   978\n",
      "sperry                80/3  180    262   4000     0    1      3     12    24\n",
      "sperry                80/4  180    512   4000     0    1      3     14    24\n",
      "sperry                80/5  180    262   4000     0    1      3     18    24\n",
      "sperry                80/6  180    512   4000     0    1      3     21    24\n",
      "sperry                80/8  124   1000   8000     0    1      8     42    37\n",
      "sperry       90/80-model-3   98   1000   8000    32    2      8     46    50\n",
      "sratus                  32  125   2000   8000     0    2     14     52    41\n",
      "wang                vs-100  480    512   8000    32    0      0     67    47\n",
      "wang                 vs-90  480   1000   4000     0    0      0     45    25\n",
      "\n",
      "[209 rows x 9 columns]\n"
     ]
    }
   ],
   "source": [
    "import numpy as np\n",
    "import pandas as pd\n",
    "import matplotlib.pyplot as plt\n",
    "%matplotlib inline\n",
    "data=pd.read_csv('machine.csv',index_col=0,header=None,names=['one','two','three','four','five','six','seven','eight','nine'])#FISRT ER TA INDEX HISABE NEOAR JNNE\n",
    "#data=pd.read_csv('AUTO_MPG.csv',header=None)\n",
    "print(data)\n",
    "data.head()\n",
    "data_train=data[0:120]\n",
    "data_test=data[120:]\n",
    "print(data_train.shape)\n",
    "print(data_test.shape)\n",
    "print(data)\n"
   ]
  },
  {
   "cell_type": "code",
   "execution_count": 46,
   "metadata": {
    "collapsed": true
   },
   "outputs": [],
   "source": [
    "#fig, axs=plt.subplots(1,3,sharey=False)  #SHARING Y AXIS TO ALL SUBPLOTS....#True korle same rows index share hbe\n",
    "#data.plot(kind='scatter',x='three',y='eight',ax=axs[0],figsize=(16,8))\n",
    "#data.plot(kind='scatter',x='four',y='eight',ax=axs[1])\n",
    "#data.plot(kind='scatter',x='five',y='eight',ax=axs[2])"
   ]
  },
  {
   "cell_type": "code",
   "execution_count": 2,
   "metadata": {},
   "outputs": [
    {
     "data": {
      "text/plain": [
       "Intercept   -10.193903\n",
       "three         0.021167\n",
       "four          0.002707\n",
       "five          1.089407\n",
       "dtype: float64"
      ]
     },
     "execution_count": 2,
     "metadata": {},
     "output_type": "execute_result"
    }
   ],
   "source": [
    "#import statsmodels.formula.api as smf\n",
    "#lm = smf.ols(formula='eight~two+three+four+five+six+seven', data=data_train).fit()  #ordinary list square(ols) #fit ta regerssion kore TRAINING DATA\n",
    "#lm.params #print the coeffiecients\n",
    "#lm.summary()\n",
    "\n",
    "import statsmodels.formula.api as smf\n",
    "lm = smf.ols(formula='eight~three+four+five', data=data_train).fit()  #ordinary list square(ols) #fit ta regerssion kore TRAINING DATA\n",
    "lm.params #print the coeffiecients\n",
    "#lm.summary()\n"
   ]
  },
  {
   "cell_type": "code",
   "execution_count": 40,
   "metadata": {},
   "outputs": [
    {
     "name": "stdout",
     "output_type": "stream",
     "text": [
      "104.217964429\n"
     ]
    }
   ],
   "source": [
    "x=data_test[['three','four','five']]\n",
    "y_pre=lm.predict(x)\n",
    "#print(x)\n",
    "y_ac=np.array(data_test['eight'])#ACTUAL CELLS\n",
    "y_np=np.array(y_pre)#PREDICTED CELLS\n",
    "#print(y_ac)\n",
    "#print(y_np)\n",
    "er1=(y_ac-y_np)**2\n",
    "er1_mean=np.mean(er1)\n",
    "er1_sqrt=np.sqrt(er1_mean)\n",
    "print(er1_sqrt)"
   ]
  }
 ],
 "metadata": {
  "kernelspec": {
   "display_name": "Python 3",
   "language": "python",
   "name": "python3"
  },
  "language_info": {
   "codemirror_mode": {
    "name": "ipython",
    "version": 3
   },
   "file_extension": ".py",
   "mimetype": "text/x-python",
   "name": "python",
   "nbconvert_exporter": "python",
   "pygments_lexer": "ipython3",
   "version": "3.6.3"
  }
 },
 "nbformat": 4,
 "nbformat_minor": 2
}
