{
 "cells": [
  {
   "cell_type": "code",
   "execution_count": 16,
   "metadata": {
    "scrolled": true
   },
   "outputs": [
    {
     "name": "stdout",
     "output_type": "stream",
     "text": [
      "[[1000    6    7]\n",
      " [   8    9   22]]\n",
      "[[1001    6    7]\n",
      " [   8    9   22]]\n",
      "[[1002    6    7]\n",
      " [   8    9   22]]\n"
     ]
    }
   ],
   "source": [
    "#numpy.copy()\n",
    "import numpy as np\n",
    "x=np.array([[5,6,7],[8,9,22]])\n",
    "y=x.copy()\n",
    "x[0,0]= 1000\n",
    "y[0,0]=1001\n",
    "z=y.copy()\n",
    "z[0,0]=1002\n",
    "print(x)\n",
    "print(y)\n",
    "print(z)\n"
   ]
  },
  {
   "cell_type": "code",
   "execution_count": 24,
   "metadata": {},
   "outputs": [
    {
     "name": "stdout",
     "output_type": "stream",
     "text": [
      "[1, 2, 3, 4, 'abcd']\n",
      "[2, 5, 6, 7, 9]\n",
      "   0\n",
      "0  2\n",
      "1  5\n",
      "2  6\n",
      "3  7\n",
      "4  9\n",
      "<class 'pandas.core.series.Series'>\n"
     ]
    }
   ],
   "source": [
    "import pandas as pd\n",
    "data1=[1,2,3,4,'abcd']\n",
    "print(data1)\n",
    "data2=[2,5,6,7,9]\n",
    "print(data2)\n",
    "df1=pd.DataFrame(data2)\n",
    "#df2=pd.DataFrame(data1)\n",
    "print(df1)\n",
    "#print(df2)\n",
    "print(type(df1[0]))\n"
   ]
  },
  {
   "cell_type": "code",
   "execution_count": 42,
   "metadata": {},
   "outputs": [
    {
     "name": "stdout",
     "output_type": "stream",
     "text": [
      "     NAME  AGE\n",
      "1    RICK   21\n",
      "2  THIMPU   19\n"
     ]
    }
   ],
   "source": [
    "import pandas as pd\n",
    "data=([['RICK',21.121],['THIMPU',19.4654]])\n",
    "p1=pd.DataFrame(data,index=[1,2],columns=['NAME','AGE'],dtype=int)#index mane row #column mane columns\n",
    "print(p1)\n",
    "                "
   ]
  },
  {
   "cell_type": "code",
   "execution_count": null,
   "metadata": {
    "scrolled": true
   },
   "outputs": [],
   "source": [
    "import pandas as pd\n",
    "d1={'Name' :['ab','cd',10],'age':[23,50,60]}\n",
    "p1=pd.DataFrame(d1,index=['x','y','z'])\n",
    "print(p1)\n",
    "print(p1.Name.dtypes)\n",
    "\n",
    "#IF THE DATATYPE ARE DIFFERENT THEN IT IS TREATED AS OBJECT"
   ]
  },
  {
   "cell_type": "code",
   "execution_count": 53,
   "metadata": {},
   "outputs": [
    {
     "name": "stdout",
     "output_type": "stream",
     "text": [
      "    Age  Age1  Name  Test\n",
      "1  80.0   NaN  Abcd   NaN\n",
      "2   NaN  80.0   xyz  89.0\n"
     ]
    }
   ],
   "source": [
    "import pandas as pd\n",
    "d1=[{'Name':'Abcd','Age':80},{'Name':'xyz','Age1':80,'Test':89}]\n",
    "p1=pd.DataFrame(d1,index=[1,2])\n",
    "print(p1)"
   ]
  },
  {
   "cell_type": "code",
   "execution_count": 60,
   "metadata": {},
   "outputs": [
    {
     "name": "stdout",
     "output_type": "stream",
     "text": [
      "   Name  Age1\n",
      "1  Abcd   NaN\n",
      "2   xyz  82.0\n"
     ]
    }
   ],
   "source": [
    "import pandas as pd\n",
    "d1=[{'Name':'Abcd','Age':80},{'Name':'xyz','Age1':82,'Test':89}]\n",
    "p1=pd.DataFrame(d1,columns=['Name','Age1'],index=[1,2])\n",
    "print(p1)"
   ]
  },
  {
   "cell_type": "code",
   "execution_count": 2,
   "metadata": {},
   "outputs": [
    {
     "name": "stdout",
     "output_type": "stream",
     "text": [
      "   0    1    2\n",
      "0  a  123   90\n",
      "1  b   50   65\n",
      "2  c   50  522\n"
     ]
    }
   ],
   "source": [
    "import pandas as pd\n",
    "d1=pd.read_csv('u.csv',header=None)\n",
    "print(d1)"
   ]
  },
  {
   "cell_type": "code",
   "execution_count": 13,
   "metadata": {},
   "outputs": [
    {
     "name": "stdout",
     "output_type": "stream",
     "text": [
      "RangeIndex(start=0, stop=3, step=1)\n",
      "   x    y    z\n",
      "0  a  123   90\n",
      "1  b   50   65\n",
      "2  c   50  522\n"
     ]
    }
   ],
   "source": [
    "import pandas as pd\n",
    "d1=pd.read_csv('u.csv',names=['x','y','z'])\n",
    "print(d1.index)\n",
    "print(d1)"
   ]
  },
  {
   "cell_type": "code",
   "execution_count": 4,
   "metadata": {},
   "outputs": [
    {
     "name": "stdout",
     "output_type": "stream",
     "text": [
      "0    object\n",
      "1     int64\n",
      "2     int64\n",
      "dtype: object\n"
     ]
    },
    {
     "data": {
      "text/html": [
       "<div>\n",
       "<style>\n",
       "    .dataframe thead tr:only-child th {\n",
       "        text-align: right;\n",
       "    }\n",
       "\n",
       "    .dataframe thead th {\n",
       "        text-align: left;\n",
       "    }\n",
       "\n",
       "    .dataframe tbody tr th {\n",
       "        vertical-align: top;\n",
       "    }\n",
       "</style>\n",
       "<table border=\"1\" class=\"dataframe\">\n",
       "  <thead>\n",
       "    <tr style=\"text-align: right;\">\n",
       "      <th></th>\n",
       "      <th>0</th>\n",
       "      <th>1</th>\n",
       "      <th>2</th>\n",
       "    </tr>\n",
       "  </thead>\n",
       "  <tbody>\n",
       "    <tr>\n",
       "      <th>0</th>\n",
       "      <td>a</td>\n",
       "      <td>123</td>\n",
       "      <td>90</td>\n",
       "    </tr>\n",
       "    <tr>\n",
       "      <th>1</th>\n",
       "      <td>b</td>\n",
       "      <td>50</td>\n",
       "      <td>65</td>\n",
       "    </tr>\n",
       "  </tbody>\n",
       "</table>\n",
       "</div>"
      ],
      "text/plain": [
       "   0    1   2\n",
       "0  a  123  90\n",
       "1  b   50  65"
      ]
     },
     "execution_count": 4,
     "metadata": {},
     "output_type": "execute_result"
    }
   ],
   "source": [
    "print(d1.dtypes)\n",
    "d1.head(2)#OPOR DIE DEKHABE\n",
    "#d1.tail(2)#NICHE DIE DEKHABE\n",
    "\n"
   ]
  },
  {
   "cell_type": "markdown",
   "metadata": {},
   "source": []
  },
  {
   "cell_type": "code",
   "execution_count": 5,
   "metadata": {},
   "outputs": [
    {
     "data": {
      "text/plain": [
       "array([['a', 123, 90],\n",
       "       ['b', 50, 65],\n",
       "       ['c', 50, 522]], dtype=object)"
      ]
     },
     "execution_count": 5,
     "metadata": {},
     "output_type": "execute_result"
    }
   ],
   "source": [
    "d1.values"
   ]
  },
  {
   "cell_type": "code",
   "execution_count": 8,
   "metadata": {},
   "outputs": [
    {
     "data": {
      "text/plain": [
       "RangeIndex(start=0, stop=3, step=1)"
      ]
     },
     "execution_count": 8,
     "metadata": {},
     "output_type": "execute_result"
    }
   ],
   "source": [
    "d1.index"
   ]
  },
  {
   "cell_type": "code",
   "execution_count": 14,
   "metadata": {},
   "outputs": [
    {
     "name": "stdout",
     "output_type": "stream",
     "text": [
      "   x    y    z\n",
      "0  a  123   90\n",
      "1  b   50   65\n",
      "2  c   50  522\n"
     ]
    }
   ],
   "source": [
    "print(d1)"
   ]
  },
  {
   "cell_type": "code",
   "execution_count": 21,
   "metadata": {},
   "outputs": [
    {
     "name": "stdout",
     "output_type": "stream",
     "text": [
      "522\n",
      "65\n",
      "[ 90  65 522]\n",
      "[123  50]\n",
      "count     3\n",
      "unique    3\n",
      "top       c\n",
      "freq      1\n",
      "Name: x, dtype: object\n"
     ]
    }
   ],
   "source": [
    "print(d1['z'].max())\n",
    "print(d1['z'].min())\n",
    "print(d1['z'].unique())\n",
    "print(d1['y'].unique())\n",
    "print(d1['x'].describe())"
   ]
  },
  {
   "cell_type": "code",
   "execution_count": 16,
   "metadata": {},
   "outputs": [
    {
     "name": "stdout",
     "output_type": "stream",
     "text": [
      "   COL1  NEW COL\n",
      "1     1        1\n",
      "2     2        2\n",
      "3     3        3\n",
      "4     4        4\n",
      "5     5        5\n",
      "6     6        6\n",
      "7     7        7\n",
      "8     8        8\n",
      "9     9        9\n"
     ]
    }
   ],
   "source": [
    "import pandas as pd\n",
    "import numpy as np\n",
    "d=[1,2,3,4,5,6,7,8,9]\n",
    "e=pd.DataFrame(d)\n",
    "e.columns=['COL1']\n",
    "e['NEW COL']=np.arange(1,10)\n",
    "e.index=[1,2,3,4,5,6,7,8,9]\n",
    "print(e)\n"
   ]
  },
  {
   "cell_type": "code",
   "execution_count": 19,
   "metadata": {
    "scrolled": true
   },
   "outputs": [
    {
     "name": "stdout",
     "output_type": "stream",
     "text": [
      "   COL1  NEW COL\n",
      "1     1        2\n",
      "2     2        3\n",
      "3     3        4\n",
      "4     4        5\n",
      "5     5        6\n",
      "6     6        7\n",
      "7     7        8\n",
      "8     8        9\n",
      "9     9       10\n"
     ]
    }
   ],
   "source": [
    "e['NEW COL']=e['NEW COL'] + 1\n",
    "print(e)"
   ]
  },
  {
   "cell_type": "code",
   "execution_count": 20,
   "metadata": {},
   "outputs": [
    {
     "name": "stdout",
     "output_type": "stream",
     "text": [
      "   COL1\n",
      "1     1\n",
      "2     2\n",
      "3     3\n",
      "4     4\n",
      "5     5\n",
      "6     6\n",
      "7     7\n",
      "8     8\n",
      "9     9\n"
     ]
    }
   ],
   "source": [
    "del e['NEW COL']\n",
    "print(e)"
   ]
  },
  {
   "cell_type": "code",
   "execution_count": 24,
   "metadata": {},
   "outputs": [
    {
     "name": "stdout",
     "output_type": "stream",
     "text": [
      "   COL1\n",
      "a     1\n",
      "b     2\n",
      "c     3\n",
      "d     4\n",
      "e     5\n",
      "f     6\n",
      "g     7\n",
      "h     8\n",
      "i     9\n"
     ]
    }
   ],
   "source": [
    "i=['a','b','c','d','e','f','g','h','i']\n",
    "e.index=i\n",
    "print(e)"
   ]
  },
  {
   "cell_type": "code",
   "execution_count": 27,
   "metadata": {},
   "outputs": [
    {
     "data": {
      "text/html": [
       "<div>\n",
       "<style>\n",
       "    .dataframe thead tr:only-child th {\n",
       "        text-align: right;\n",
       "    }\n",
       "\n",
       "    .dataframe thead th {\n",
       "        text-align: left;\n",
       "    }\n",
       "\n",
       "    .dataframe tbody tr th {\n",
       "        vertical-align: top;\n",
       "    }\n",
       "</style>\n",
       "<table border=\"1\" class=\"dataframe\">\n",
       "  <thead>\n",
       "    <tr style=\"text-align: right;\">\n",
       "      <th></th>\n",
       "      <th>COL1</th>\n",
       "    </tr>\n",
       "  </thead>\n",
       "  <tbody>\n",
       "    <tr>\n",
       "      <th>b</th>\n",
       "      <td>2</td>\n",
       "    </tr>\n",
       "    <tr>\n",
       "      <th>c</th>\n",
       "      <td>3</td>\n",
       "    </tr>\n",
       "    <tr>\n",
       "      <th>d</th>\n",
       "      <td>4</td>\n",
       "    </tr>\n",
       "    <tr>\n",
       "      <th>e</th>\n",
       "      <td>5</td>\n",
       "    </tr>\n",
       "  </tbody>\n",
       "</table>\n",
       "</div>"
      ],
      "text/plain": [
       "   COL1\n",
       "b     2\n",
       "c     3\n",
       "d     4\n",
       "e     5"
      ]
     },
     "execution_count": 27,
     "metadata": {},
     "output_type": "execute_result"
    }
   ],
   "source": [
    "e.loc['b' : 'e'] #INDEX"
   ]
  },
  {
   "cell_type": "code",
   "execution_count": 28,
   "metadata": {},
   "outputs": [
    {
     "data": {
      "text/html": [
       "<div>\n",
       "<style>\n",
       "    .dataframe thead tr:only-child th {\n",
       "        text-align: right;\n",
       "    }\n",
       "\n",
       "    .dataframe thead th {\n",
       "        text-align: left;\n",
       "    }\n",
       "\n",
       "    .dataframe tbody tr th {\n",
       "        vertical-align: top;\n",
       "    }\n",
       "</style>\n",
       "<table border=\"1\" class=\"dataframe\">\n",
       "  <thead>\n",
       "    <tr style=\"text-align: right;\">\n",
       "      <th></th>\n",
       "      <th>COL1</th>\n",
       "    </tr>\n",
       "  </thead>\n",
       "  <tbody>\n",
       "    <tr>\n",
       "      <th>c</th>\n",
       "      <td>3</td>\n",
       "    </tr>\n",
       "    <tr>\n",
       "      <th>d</th>\n",
       "      <td>4</td>\n",
       "    </tr>\n",
       "    <tr>\n",
       "      <th>e</th>\n",
       "      <td>5</td>\n",
       "    </tr>\n",
       "    <tr>\n",
       "      <th>f</th>\n",
       "      <td>6</td>\n",
       "    </tr>\n",
       "  </tbody>\n",
       "</table>\n",
       "</div>"
      ],
      "text/plain": [
       "   COL1\n",
       "c     3\n",
       "d     4\n",
       "e     5\n",
       "f     6"
      ]
     },
     "execution_count": 28,
     "metadata": {},
     "output_type": "execute_result"
    }
   ],
   "source": [
    "e.iloc[2:6] #INDEX LOCATION ORIGINAL"
   ]
  },
  {
   "cell_type": "code",
   "execution_count": 29,
   "metadata": {},
   "outputs": [
    {
     "name": "stdout",
     "output_type": "stream",
     "text": [
      "   COL1  NEW COL\n",
      "a     1        1\n",
      "b     2        2\n",
      "c     3        3\n",
      "d     4        4\n",
      "e     5        5\n",
      "f     6        6\n",
      "g     7        7\n",
      "h     8        8\n",
      "i     9        9\n"
     ]
    }
   ],
   "source": [
    "e.columns=['COL1']\n",
    "e['NEW COL']=np.arange(1,10)\n",
    "print(e)"
   ]
  },
  {
   "cell_type": "code",
   "execution_count": 34,
   "metadata": {},
   "outputs": [
    {
     "data": {
      "text/plain": [
       "6"
      ]
     },
     "execution_count": 34,
     "metadata": {},
     "output_type": "execute_result"
    }
   ],
   "source": [
    "e.iat[6,1] #[ROW NO ORIGINAL,COLUMN ORIGINAL]\n"
   ]
  },
  {
   "cell_type": "code",
   "execution_count": 35,
   "metadata": {},
   "outputs": [
    {
     "name": "stderr",
     "output_type": "stream",
     "text": [
      "C:\\Users\\admin\\Anaconda3\\lib\\site-packages\\ipykernel_launcher.py:1: DeprecationWarning: \n",
      ".ix is deprecated. Please use\n",
      ".loc for label based indexing or\n",
      ".iloc for positional indexing\n",
      "\n",
      "See the documentation here:\n",
      "http://pandas.pydata.org/pandas-docs/stable/indexing.html#ix-indexer-is-deprecated\n",
      "  \"\"\"Entry point for launching an IPython kernel.\n"
     ]
    },
    {
     "data": {
      "text/plain": [
       "COL1       2\n",
       "NEW COL    2\n",
       "Name: b, dtype: int64"
      ]
     },
     "execution_count": 35,
     "metadata": {},
     "output_type": "execute_result"
    }
   ],
   "source": [
    "e.ix[1]# FUTURE E KAJ KORBE NA"
   ]
  },
  {
   "cell_type": "code",
   "execution_count": 36,
   "metadata": {},
   "outputs": [
    {
     "data": {
      "text/plain": [
       "7"
      ]
     },
     "execution_count": 36,
     "metadata": {},
     "output_type": "execute_result"
    }
   ],
   "source": [
    "e.at['g','COL1']"
   ]
  },
  {
   "cell_type": "code",
   "execution_count": 37,
   "metadata": {},
   "outputs": [
    {
     "data": {
      "text/html": [
       "<div>\n",
       "<style>\n",
       "    .dataframe thead tr:only-child th {\n",
       "        text-align: right;\n",
       "    }\n",
       "\n",
       "    .dataframe thead th {\n",
       "        text-align: left;\n",
       "    }\n",
       "\n",
       "    .dataframe tbody tr th {\n",
       "        vertical-align: top;\n",
       "    }\n",
       "</style>\n",
       "<table border=\"1\" class=\"dataframe\">\n",
       "  <thead>\n",
       "    <tr style=\"text-align: right;\">\n",
       "      <th></th>\n",
       "      <th>COL1</th>\n",
       "      <th>NEW COL</th>\n",
       "    </tr>\n",
       "  </thead>\n",
       "  <tbody>\n",
       "    <tr>\n",
       "      <th>a</th>\n",
       "      <td>1</td>\n",
       "      <td>1</td>\n",
       "    </tr>\n",
       "    <tr>\n",
       "      <th>b</th>\n",
       "      <td>2</td>\n",
       "      <td>2</td>\n",
       "    </tr>\n",
       "    <tr>\n",
       "      <th>c</th>\n",
       "      <td>3</td>\n",
       "      <td>3</td>\n",
       "    </tr>\n",
       "    <tr>\n",
       "      <th>d</th>\n",
       "      <td>4</td>\n",
       "      <td>4</td>\n",
       "    </tr>\n",
       "    <tr>\n",
       "      <th>e</th>\n",
       "      <td>5</td>\n",
       "      <td>5</td>\n",
       "    </tr>\n",
       "    <tr>\n",
       "      <th>f</th>\n",
       "      <td>6</td>\n",
       "      <td>6</td>\n",
       "    </tr>\n",
       "    <tr>\n",
       "      <th>g</th>\n",
       "      <td>7</td>\n",
       "      <td>7</td>\n",
       "    </tr>\n",
       "    <tr>\n",
       "      <th>h</th>\n",
       "      <td>8</td>\n",
       "      <td>8</td>\n",
       "    </tr>\n",
       "    <tr>\n",
       "      <th>i</th>\n",
       "      <td>9</td>\n",
       "      <td>9</td>\n",
       "    </tr>\n",
       "  </tbody>\n",
       "</table>\n",
       "</div>"
      ],
      "text/plain": [
       "   COL1  NEW COL\n",
       "a     1        1\n",
       "b     2        2\n",
       "c     3        3\n",
       "d     4        4\n",
       "e     5        5\n",
       "f     6        6\n",
       "g     7        7\n",
       "h     8        8\n",
       "i     9        9"
      ]
     },
     "execution_count": 37,
     "metadata": {},
     "output_type": "execute_result"
    }
   ],
   "source": [
    "e.fillna(0) #JODI STRING  THAKE TAHLE 0 hbe "
   ]
  },
  {
   "cell_type": "code",
   "execution_count": null,
   "metadata": {
    "collapsed": true
   },
   "outputs": [],
   "source": []
  }
 ],
 "metadata": {
  "kernelspec": {
   "display_name": "Python 3",
   "language": "python",
   "name": "python3"
  },
  "language_info": {
   "codemirror_mode": {
    "name": "ipython",
    "version": 3
   },
   "file_extension": ".py",
   "mimetype": "text/x-python",
   "name": "python",
   "nbconvert_exporter": "python",
   "pygments_lexer": "ipython3",
   "version": "3.6.3"
  }
 },
 "nbformat": 4,
 "nbformat_minor": 2
}
