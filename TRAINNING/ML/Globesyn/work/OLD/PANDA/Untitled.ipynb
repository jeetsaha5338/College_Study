{
 "cells": [
  {
   "cell_type": "code",
   "execution_count": 6,
   "metadata": {},
   "outputs": [
    {
     "name": "stdout",
     "output_type": "stream",
     "text": [
      "[ 2.  3.  4.]\n",
      "<class 'numpy.ndarray'>\n",
      "[[ 2  3  4]\n",
      " [ 5  6  7]\n",
      " [ 8  9 10]\n",
      " [11 12 13]]\n",
      "<class 'numpy.ndarray'>\n",
      "int32\n",
      "[[[ 2  3]\n",
      "  [ 5  6]\n",
      "  [ 8  9]]\n",
      "\n",
      " [[11 12]\n",
      "  [ 1  1]\n",
      "  [ 2  2]]]\n"
     ]
    }
   ],
   "source": [
    "import numpy as np\n",
    "a = np.array([2,3,4],dtype='float64')\n",
    "print(a)\n",
    "print(type(a))\n",
    "b = np.array([(2,3,4),(5,6,7),(8,9,10),(11,12,13)])#2D array\n",
    "print(b)\n",
    "print(type(b))\n",
    "print(b.dtype)\n",
    "c = np.array([[(2,3),(5,6),(8,9)],[(11,12),(1,1),(2,2)]])#3D array\n",
    "print(c)\n"
   ]
  },
  {
   "cell_type": "code",
   "execution_count": null,
   "metadata": {
    "collapsed": true
   },
   "outputs": [],
   "source": [
    "print(c.dtype)#to dispaly the datatype\n",
    "print(c.shape)#to display the shape of matrix\n",
    "print(c.ndim)#to show dimension of array\n",
    "print(c[0][2][1])\n",
    "d=np.arange(5,12,2)#to generate no. btw a range\n",
    "print(d)\n",
    "e=d.reshape(2,2)\n",
    "print(e)\n",
    "\n",
    "f=b.reshape(2,6)#to reshape the matrix i.e. convert 1D matrix to 2D\n",
    "print(f)\n",
    "g=np.arange(100000).reshape(100,100,10)\n",
    "print(g)\n",
    "h=np.zeros((3,3))#create zero matrix\n",
    "print(h)\n",
    "i=np.ones((3,3),dtype=np.int16)#create one's matrix\n",
    "print(i)\n"
   ]
  }
 ],
 "metadata": {
  "kernelspec": {
   "display_name": "Python 3",
   "language": "python",
   "name": "python3"
  },
  "language_info": {
   "codemirror_mode": {
    "name": "ipython",
    "version": 3
   },
   "file_extension": ".py",
   "mimetype": "text/x-python",
   "name": "python",
   "nbconvert_exporter": "python",
   "pygments_lexer": "ipython3",
   "version": "3.6.3"
  }
 },
 "nbformat": 4,
 "nbformat_minor": 2
}
