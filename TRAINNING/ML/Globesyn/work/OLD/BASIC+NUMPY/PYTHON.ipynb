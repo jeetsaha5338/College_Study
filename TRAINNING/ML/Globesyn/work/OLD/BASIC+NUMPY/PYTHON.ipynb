{
 "cells": [
  {
   "cell_type": "code",
   "execution_count": 16,
   "metadata": {},
   "outputs": [
    {
     "name": "stdout",
     "output_type": "stream",
     "text": [
      "100100\n",
      "10.0\n"
     ]
    }
   ],
   "source": [
    "a=100\n",
    "b=\"100\"\n",
    "print(b*2)\n",
    "print(a/10)\n",
    "\n"
   ]
  },
  {
   "cell_type": "code",
   "execution_count": 30,
   "metadata": {},
   "outputs": [
    {
     "name": "stdout",
     "output_type": "stream",
     "text": [
      "hello world\n",
      "hello world\n",
      "ell\n",
      "world\n",
      "hello\n"
     ]
    }
   ],
   "source": [
    "str_1 = \"hello world\"\n",
    "str_2 = \"hello world\"\n",
    "print(str_1)\n",
    "print(str_2)\n",
    "print(str_1[1:4])\n",
    "print(str_1[6:])\n",
    "print(str_2[:5])\n"
   ]
  },
  {
   "cell_type": "code",
   "execution_count": 31,
   "metadata": {},
   "outputs": [
    {
     "name": "stdout",
     "output_type": "stream",
     "text": [
      "hello world\n"
     ]
    }
   ],
   "source": [
    "print(str_1)"
   ]
  },
  {
   "cell_type": "code",
   "execution_count": 43,
   "metadata": {},
   "outputs": [
    {
     "name": "stdout",
     "output_type": "stream",
     "text": [
      "hello world\n",
      "hello world\n",
      "PYTHON\n"
     ]
    }
   ],
   "source": [
    "print(str_1  + \"\\n\" + str_2 + \"\\nPYTHON\")"
   ]
  },
  {
   "cell_type": "code",
   "execution_count": 44,
   "metadata": {},
   "outputs": [
    {
     "name": "stdout",
     "output_type": "stream",
     "text": [
      "5\n",
      "2.5\n",
      "(2+3j)\n"
     ]
    }
   ],
   "source": [
    "i=5\n",
    "j=2.5\n",
    "k=2+3j\n",
    "print(i)\n",
    "print(j)\n",
    "print(k)\n"
   ]
  },
  {
   "cell_type": "code",
   "execution_count": 80,
   "metadata": {},
   "outputs": [
    {
     "name": "stdout",
     "output_type": "stream",
     "text": [
      "[1, 'HELLO', 2.5]\n",
      "['abcd', 'HELLO', 12.5, 'SPANDAN', 'rm', 2]\n",
      "['abcd', 'HELLO', 12.5, 'SPANDAN', 'rm', 2, ['rm', 2]]\n",
      "['HELLO', 12.5]\n",
      "['abcd', 'HELLO', 12.5, 'SPANDAN', 'rm', 2, ['rm', 2]]\n",
      "[['rm', 2], 2, 'rm', 'SPANDAN', 12.5, 'HELLO', 'abcd']\n"
     ]
    }
   ],
   "source": [
    "list1=[1,'HELLO',2.5]\n",
    "print(list1)\n",
    "list1[0]='abcd'\n",
    "list1[2]=list1[2]*5\n",
    "list1.append('SPANDAN')\n",
    "xyz=['rm',2]\n",
    "list1.extend(xyz)\n",
    "print(list1)\n",
    "list1.append(xyz)\n",
    "print(list1)\n",
    "print(list1[1:3])\n",
    "print(list1[:])\n",
    "print(list1[6::-1])\n"
   ]
  },
  {
   "cell_type": "code",
   "execution_count": 81,
   "metadata": {},
   "outputs": [
    {
     "name": "stdout",
     "output_type": "stream",
     "text": [
      "['abcd', 'HELLO', 12.5, 'SPANDAN', 'rm', 2, ['rm', 2], 'rm', 2]\n"
     ]
    }
   ],
   "source": [
    "print(list1 + xyz)"
   ]
  },
  {
   "cell_type": "code",
   "execution_count": 89,
   "metadata": {},
   "outputs": [
    {
     "name": "stdout",
     "output_type": "stream",
     "text": [
      "A is 0\n"
     ]
    }
   ],
   "source": [
    "a=-0\n",
    "if a>0 :\n",
    "    print('+VE')\n",
    "elif a==0 :\n",
    "    print('A is 0')\n",
    "else :\n",
    "    print('-VE')"
   ]
  },
  {
   "cell_type": "code",
   "execution_count": 90,
   "metadata": {},
   "outputs": [
    {
     "name": "stdout",
     "output_type": "stream",
     "text": [
      "welcome\n",
      "TO\n",
      "PYTHON\n"
     ]
    }
   ],
   "source": [
    "for word in ['welcome','TO','PYTHON'] :\n",
    "    print(word)"
   ]
  },
  {
   "cell_type": "code",
   "execution_count": 97,
   "metadata": {},
   "outputs": [
    {
     "name": "stdout",
     "output_type": "stream",
     "text": [
      "1\n",
      "2\n",
      "3\n",
      "4\n",
      "5\n",
      "6\n",
      "7\n",
      "8\n"
     ]
    }
   ],
   "source": [
    "list=[1,2,3,4,5,6,7,8]\n",
    "for word in list :\n",
    "    print(word)"
   ]
  },
  {
   "cell_type": "code",
   "execution_count": 106,
   "metadata": {},
   "outputs": [
    {
     "name": "stdout",
     "output_type": "stream",
     "text": [
      "The count is  1\n",
      "The count is  2\n",
      "The count is  3\n",
      "The count is  4\n",
      "The count is  5\n",
      "The count is  6\n",
      "The count is  7\n",
      "The count is  8\n",
      "The count is  9\n",
      "The count is  10\n"
     ]
    }
   ],
   "source": [
    "count=1\n",
    "while (count<=10) :\n",
    "    print(\"The count is \",count)\n",
    "    count= count+1\n",
    "    "
   ]
  },
  {
   "cell_type": "code",
   "execution_count": 109,
   "metadata": {},
   "outputs": [
    {
     "name": "stdout",
     "output_type": "stream",
     "text": [
      "learn from your \n",
      "MISTAKE\n"
     ]
    }
   ],
   "source": [
    "def A(a) :\n",
    "    print('learn from your ' +a)\n",
    "A('\\nMISTAKE')"
   ]
  },
  {
   "cell_type": "code",
   "execution_count": 110,
   "metadata": {},
   "outputs": [
    {
     "name": "stdout",
     "output_type": "stream",
     "text": [
      "20\n",
      "abcabc\n"
     ]
    }
   ],
   "source": [
    "def A(a) :\n",
    "    print(a*2)\n",
    "A(10)\n",
    "A('abc')"
   ]
  },
  {
   "cell_type": "code",
   "execution_count": 114,
   "metadata": {},
   "outputs": [
    {
     "name": "stdout",
     "output_type": "stream",
     "text": [
      "abc\n",
      "xyz\n",
      "abc\n"
     ]
    }
   ],
   "source": [
    "def A(a) :\n",
    "    print(a) \n",
    "    a='xyz'\n",
    "    print(a)\n",
    "aa='abc'\n",
    "A(aa)\n",
    "print(aa)"
   ]
  },
  {
   "cell_type": "code",
   "execution_count": 116,
   "metadata": {},
   "outputs": [
    {
     "name": "stdout",
     "output_type": "stream",
     "text": [
      "['abc', 500, 'xyz']\n",
      "['abc', 500, 'xyz']\n"
     ]
    }
   ],
   "source": [
    "def A(a) :\n",
    "    print(a) \n",
    "    #a='xyz'\n",
    "   # print(a)\n",
    "aa=['abc',500,'xyz']\n",
    "A(aa)\n",
    "print(aa)"
   ]
  },
  {
   "cell_type": "code",
   "execution_count": 1,
   "metadata": {},
   "outputs": [
    {
     "name": "stdout",
     "output_type": "stream",
     "text": [
      "['abc', 500, 'xyz']\n",
      "['abc', 50, 'xyz']\n",
      "['abc', 500, 'xyz']\n"
     ]
    }
   ],
   "source": [
    "def A(a) :\n",
    "    print(a)\n",
    "    a=['abc',50,'xyz']\n",
    "    print(a) \n",
    "aa=['abc',500,'xyz']\n",
    "A(aa)\n",
    "print(aa)"
   ]
  },
  {
   "cell_type": "code",
   "execution_count": 8,
   "metadata": {},
   "outputs": [
    {
     "name": "stdout",
     "output_type": "stream",
     "text": [
      "['Helloabc', 10]\n"
     ]
    }
   ],
   "source": [
    "def A(a) :\n",
    "    return ['Hello'+'abc',5*2]\n",
    "y=A(['abc',5])\n",
    "print(y) \n",
    "\n",
    "    "
   ]
  },
  {
   "cell_type": "code",
   "execution_count": 7,
   "metadata": {},
   "outputs": [
    {
     "name": "stdout",
     "output_type": "stream",
     "text": [
      "Hello GUGU\n"
     ]
    }
   ],
   "source": [
    "def A(a) :\n",
    "    return 'Hello ' + a\n",
    "x=\"GUGU\"\n",
    "y=A(x)\n",
    "print(y) \n"
   ]
  },
  {
   "cell_type": "code",
   "execution_count": 13,
   "metadata": {},
   "outputs": [
    {
     "name": "stdout",
     "output_type": "stream",
     "text": [
      "<class 'str'>\n",
      "10\n"
     ]
    }
   ],
   "source": [
    "def A(b1,b2) :\n",
    "    a1='Hello '+ b1\n",
    "    a2=b2*2\n",
    "    return a1,a2\n",
    "y,p=A('abc',5)\n",
    "print(type(y))\n",
    "print(p)"
   ]
  },
  {
   "cell_type": "code",
   "execution_count": 1,
   "metadata": {},
   "outputs": [
    {
     "data": {
      "image/png": "[encoded data removed]",
      "text/plain": [
       "<matplotlib.figure.Figure at 0x3d8a1f0>"
      ]
     },
     "metadata": {},
     "output_type": "display_data"
    }
   ],
   "source": [
    "import matplotlib.pyplot as plt\n",
    "%matplotlib inline\n",
    "x=range(0,100,1)\n",
    "y=[2*x+1 for x in range(0,100,1)]\n",
    "plt.plot(x,y)\n",
    "z=[200-2*x for x in range(0,100,1)]\n",
    "plt.plot(x,z)\n",
    "plt.show()"
   ]
  },
  {
   "cell_type": "code",
   "execution_count": 2,
   "metadata": {},
   "outputs": [
    {
     "data": {
      "image/png": "[encoded data removed]",
      "text/plain": [
       "<matplotlib.figure.Figure at 0x3d67ef0>"
      ]
     },
     "metadata": {},
     "output_type": "display_data"
    }
   ],
   "source": [
    "import matplotlib.pyplot as plt\n",
    "%matplotlib inline\n",
    "x=[2010,2011,2012,2013,2014]\n",
    "y=[70,75,82,85,90]\n",
    "plt.plot(x,y)\n",
    "plt.show()\n"
   ]
  },
  {
   "cell_type": "code",
   "execution_count": 4,
   "metadata": {},
   "outputs": [
    {
     "data": {
      "text/plain": [
       "array([2, 3, 4])"
      ]
     },
     "execution_count": 4,
     "metadata": {},
     "output_type": "execute_result"
    }
   ],
   "source": [
    "import numpy as np\n",
    "a=np.array([2,3,4])\n",
    "a"
   ]
  },
  {
   "cell_type": "code",
   "execution_count": 5,
   "metadata": {},
   "outputs": [
    {
     "name": "stdout",
     "output_type": "stream",
     "text": [
      "[2 3 4]\n"
     ]
    }
   ],
   "source": [
    "import numpy as np\n",
    "a=np.array([2,3,4])\n",
    "print(a)"
   ]
  },
  {
   "cell_type": "code",
   "execution_count": 6,
   "metadata": {},
   "outputs": [
    {
     "data": {
      "text/plain": [
       "dtype('int32')"
      ]
     },
     "execution_count": 6,
     "metadata": {},
     "output_type": "execute_result"
    }
   ],
   "source": [
    "a.dtype"
   ]
  },
  {
   "cell_type": "code",
   "execution_count": 9,
   "metadata": {},
   "outputs": [
    {
     "name": "stdout",
     "output_type": "stream",
     "text": [
      "[ 2.3  3.5  4. ]\n"
     ]
    },
    {
     "data": {
      "text/plain": [
       "dtype('float64')"
      ]
     },
     "execution_count": 9,
     "metadata": {},
     "output_type": "execute_result"
    }
   ],
   "source": [
    "import numpy as np\n",
    "a=np.array([2.3,3.5,4])\n",
    "print(a)\n",
    "a.dtype"
   ]
  },
  {
   "cell_type": "code",
   "execution_count": 11,
   "metadata": {},
   "outputs": [
    {
     "name": "stdout",
     "output_type": "stream",
     "text": [
      "[ 2.  3.  4.]\n"
     ]
    },
    {
     "data": {
      "text/plain": [
       "dtype('float64')"
      ]
     },
     "execution_count": 11,
     "metadata": {},
     "output_type": "execute_result"
    }
   ],
   "source": [
    "import numpy as np\n",
    "a=np.array([2,3,4],dtype='float64')\n",
    "print(a)\n",
    "a.dtype"
   ]
  },
  {
   "cell_type": "code",
   "execution_count": 83,
   "metadata": {
    "scrolled": true
   },
   "outputs": [
    {
     "name": "stdout",
     "output_type": "stream",
     "text": [
      "(2, 3, 3)\n",
      "[[[ 1  2  3]\n",
      "  [ 4  5  6]\n",
      "  [ 7  8  9]]\n",
      "\n",
      " [[10 11 12]\n",
      "  [13 14 15]\n",
      "  [16 17 18]]]\n",
      "3\n",
      "18\n",
      "(3, 6)\n",
      "2\n",
      "[[ 0  1  2  3  4  5]\n",
      " [ 6  7  8  9 10 11]\n",
      " [12 13 14 15 16 17]]\n"
     ]
    }
   ],
   "source": [
    "import numpy as np\n",
    "b=np.array([[[1,2,3],[4,5,6],[7,8,9]],[[10,11,12],[13,14,15],[16,17,18]]])\n",
    "print(b.shape)\n",
    "print(b)\n",
    "print(b.ndim)\n",
    "\n",
    "print(b[1][2][2])\n",
    "\n",
    "b=np.arange(18).reshape(3,6)\n",
    "print(b.shape)\n",
    "print(b.ndim)\n",
    "print(b)\n"
   ]
  },
  {
   "cell_type": "code",
   "execution_count": 125,
   "metadata": {},
   "outputs": [
    {
     "name": "stdout",
     "output_type": "stream",
     "text": [
      "[[1 2]\n",
      " [3 4]]\n",
      "[[5 6]\n",
      " [7 8]]\n",
      "[[ 5 12]\n",
      " [21 32]]\n"
     ]
    }
   ],
   "source": [
    "import numpy as np\n",
    "a=np.array([[1,2],[3,4]])\n",
    "b=np.array([[5,6],[7,8]])\n",
    "print(a)\n",
    "print(b)\n",
    "#print(a**b)\n",
    "print(a*b)"
   ]
  },
  {
   "cell_type": "code",
   "execution_count": 97,
   "metadata": {},
   "outputs": [
    {
     "data": {
      "text/plain": [
       "array([[ 1,  2,  3,  4,  5],\n",
       "       [ 6,  7,  8,  9, 10],\n",
       "       [11, 12, 13, 14, 15]])"
      ]
     },
     "execution_count": 97,
     "metadata": {},
     "output_type": "execute_result"
    }
   ],
   "source": [
    "import numpy as np\n",
    "a=np.arange(1,16).reshape(3,5)\n",
    "a\n"
   ]
  },
  {
   "cell_type": "code",
   "execution_count": 95,
   "metadata": {},
   "outputs": [
    {
     "name": "stdout",
     "output_type": "stream",
     "text": [
      "(2, 3, 3)\n",
      "[[ 1  2  3  4  5  6]\n",
      " [ 7  8  9 10 11 12]\n",
      " [13 14 15 16 17 18]]\n",
      "[[[ 1  2  3]\n",
      "  [ 4  5  6]\n",
      "  [ 7  8  9]]\n",
      "\n",
      " [[10 11 12]\n",
      "  [13 14 15]\n",
      "  [16 17 18]]]\n"
     ]
    }
   ],
   "source": [
    "import numpy as np\n",
    "b=np.array([[[1,2,3],[4,5,6],[7,8,9]],[[10,11,12],[13,14,15],[16,17,18]]])\n",
    "print(b.shape)\n",
    "c=b.reshape(3,6)\n",
    "print(c)\n",
    "print(b)\n",
    "\n",
    "#c[2][4]=0\n",
    "#print(c)\n",
    "#print(b)"
   ]
  },
  {
   "cell_type": "code",
   "execution_count": 107,
   "metadata": {},
   "outputs": [
    {
     "name": "stdout",
     "output_type": "stream",
     "text": [
      "[10  9  8  7  6  5  4  3  2  1]\n"
     ]
    }
   ],
   "source": [
    "import numpy as np\n",
    "b=np.arange(10,0,-1)\n",
    "print(b)"
   ]
  },
  {
   "cell_type": "code",
   "execution_count": 102,
   "metadata": {},
   "outputs": [
    {
     "name": "stdout",
     "output_type": "stream",
     "text": [
      "[[10 11 12]\n",
      " [13 14 15]]\n"
     ]
    }
   ],
   "source": [
    "print(b.reshape(2,3))"
   ]
  },
  {
   "cell_type": "code",
   "execution_count": 108,
   "metadata": {},
   "outputs": [
    {
     "name": "stdout",
     "output_type": "stream",
     "text": [
      "[[[    0     1     2 ...,     7     8     9]\n",
      "  [   10    11    12 ...,    17    18    19]\n",
      "  [   20    21    22 ...,    27    28    29]\n",
      "  ..., \n",
      "  [  970   971   972 ...,   977   978   979]\n",
      "  [  980   981   982 ...,   987   988   989]\n",
      "  [  990   991   992 ...,   997   998   999]]\n",
      "\n",
      " [[ 1000  1001  1002 ...,  1007  1008  1009]\n",
      "  [ 1010  1011  1012 ...,  1017  1018  1019]\n",
      "  [ 1020  1021  1022 ...,  1027  1028  1029]\n",
      "  ..., \n",
      "  [ 1970  1971  1972 ...,  1977  1978  1979]\n",
      "  [ 1980  1981  1982 ...,  1987  1988  1989]\n",
      "  [ 1990  1991  1992 ...,  1997  1998  1999]]\n",
      "\n",
      " [[ 2000  2001  2002 ...,  2007  2008  2009]\n",
      "  [ 2010  2011  2012 ...,  2017  2018  2019]\n",
      "  [ 2020  2021  2022 ...,  2027  2028  2029]\n",
      "  ..., \n",
      "  [ 2970  2971  2972 ...,  2977  2978  2979]\n",
      "  [ 2980  2981  2982 ...,  2987  2988  2989]\n",
      "  [ 2990  2991  2992 ...,  2997  2998  2999]]\n",
      "\n",
      " ..., \n",
      " [[97000 97001 97002 ..., 97007 97008 97009]\n",
      "  [97010 97011 97012 ..., 97017 97018 97019]\n",
      "  [97020 97021 97022 ..., 97027 97028 97029]\n",
      "  ..., \n",
      "  [97970 97971 97972 ..., 97977 97978 97979]\n",
      "  [97980 97981 97982 ..., 97987 97988 97989]\n",
      "  [97990 97991 97992 ..., 97997 97998 97999]]\n",
      "\n",
      " [[98000 98001 98002 ..., 98007 98008 98009]\n",
      "  [98010 98011 98012 ..., 98017 98018 98019]\n",
      "  [98020 98021 98022 ..., 98027 98028 98029]\n",
      "  ..., \n",
      "  [98970 98971 98972 ..., 98977 98978 98979]\n",
      "  [98980 98981 98982 ..., 98987 98988 98989]\n",
      "  [98990 98991 98992 ..., 98997 98998 98999]]\n",
      "\n",
      " [[99000 99001 99002 ..., 99007 99008 99009]\n",
      "  [99010 99011 99012 ..., 99017 99018 99019]\n",
      "  [99020 99021 99022 ..., 99027 99028 99029]\n",
      "  ..., \n",
      "  [99970 99971 99972 ..., 99977 99978 99979]\n",
      "  [99980 99981 99982 ..., 99987 99988 99989]\n",
      "  [99990 99991 99992 ..., 99997 99998 99999]]]\n"
     ]
    }
   ],
   "source": [
    "import numpy as np\n",
    "b=np.arange(100000).reshape(100,100,10)\n",
    "print(b)"
   ]
  },
  {
   "cell_type": "code",
   "execution_count": 111,
   "metadata": {},
   "outputs": [
    {
     "name": "stdout",
     "output_type": "stream",
     "text": [
      "[[ 0.  0.  0.  0.]\n",
      " [ 0.  0.  0.  0.]\n",
      " [ 0.  0.  0.  0.]]\n"
     ]
    }
   ],
   "source": [
    "import numpy as np\n",
    "b=np.zeros((3,4))\n",
    "print(b)"
   ]
  },
  {
   "cell_type": "code",
   "execution_count": 119,
   "metadata": {},
   "outputs": [
    {
     "name": "stdout",
     "output_type": "stream",
     "text": [
      "[[1 1 1 1]\n",
      " [1 1 1 1]\n",
      " [1 1 1 1]]\n"
     ]
    }
   ],
   "source": [
    "import numpy as np\n",
    "b=np.ones((3,4),dtype='int16')\n",
    "#b=np.ones((3,4),dtype='float64')............DEFAULT\n",
    "print(b)"
   ]
  },
  {
   "cell_type": "code",
   "execution_count": 158,
   "metadata": {},
   "outputs": [
    {
     "name": "stdout",
     "output_type": "stream",
     "text": [
      "[[0 1]\n",
      " [2 3]]\n",
      "[10 20 30 40 50]\n"
     ]
    },
    {
     "ename": "ValueError",
     "evalue": "operands could not be broadcast together with shapes (2,2) (5,) ",
     "output_type": "error",
     "traceback": [
      "\u001b[1;31m---------------------------------------------------------------------------\u001b[0m",
      "\u001b[1;31mValueError\u001b[0m                                Traceback (most recent call last)",
      "\u001b[1;32m<ipython-input-158-22455d6c548a>\u001b[0m in \u001b[0;36m<module>\u001b[1;34m()\u001b[0m\n\u001b[0;32m      4\u001b[0m \u001b[0mprint\u001b[0m\u001b[1;33m(\u001b[0m\u001b[0ma\u001b[0m\u001b[1;33m)\u001b[0m\u001b[1;33m\u001b[0m\u001b[0m\n\u001b[0;32m      5\u001b[0m \u001b[0mprint\u001b[0m\u001b[1;33m(\u001b[0m\u001b[0mb\u001b[0m\u001b[1;33m)\u001b[0m\u001b[1;33m\u001b[0m\u001b[0m\n\u001b[1;32m----> 6\u001b[1;33m \u001b[0mc\u001b[0m\u001b[1;33m=\u001b[0m\u001b[0ma\u001b[0m\u001b[1;33m*\u001b[0m\u001b[0mb\u001b[0m\u001b[1;33m\u001b[0m\u001b[0m\n\u001b[0m\u001b[0;32m      7\u001b[0m \u001b[0md\u001b[0m\u001b[1;33m=\u001b[0m\u001b[0ma\u001b[0m\u001b[1;33m.\u001b[0m\u001b[0mdot\u001b[0m\u001b[1;33m(\u001b[0m\u001b[0mb\u001b[0m\u001b[1;33m)\u001b[0m\u001b[1;33m\u001b[0m\u001b[0m\n\u001b[0;32m      8\u001b[0m \u001b[1;33m\u001b[0m\u001b[0m\n",
      "\u001b[1;31mValueError\u001b[0m: operands could not be broadcast together with shapes (2,2) (5,) "
     ]
    }
   ],
   "source": [
    "import numpy as np\n",
    "a=np.arange(4).reshape(2,2)\n",
    "b=np.arange(10,51,10)\n",
    "print(a)\n",
    "print(b)\n",
    "c=a*b\n",
    "d=a.dot(b)\n",
    "\n",
    "\n",
    "print(c)\n",
    "print(d)"
   ]
  },
  {
   "cell_type": "code",
   "execution_count": 137,
   "metadata": {},
   "outputs": [
    {
     "name": "stdout",
     "output_type": "stream",
     "text": [
      "[[4 5 6]\n",
      " [1 2 3]]\n",
      "[[1 2 3]\n",
      " [4 5 6]]\n",
      "[[5 7 9]\n",
      " [5 7 9]]\n"
     ]
    }
   ],
   "source": [
    "import numpy as np\n",
    "b=np.array([[1,2,3],[4,5,6]])\n",
    "a=np.array([[4,5,6],[1,2,3]])\n",
    "print(a)\n",
    "print(b)\n",
    "\n",
    "c=a+b\n",
    "print(c)\n"
   ]
  },
  {
   "cell_type": "code",
   "execution_count": 142,
   "metadata": {},
   "outputs": [
    {
     "name": "stdout",
     "output_type": "stream",
     "text": [
      "[[0 1]\n",
      " [2 3]]\n",
      "[[ True  True]\n",
      " [False False]]\n",
      "bool\n"
     ]
    }
   ],
   "source": [
    "c=np.arange(4).reshape(2,2)\n",
    "g=c<2\n",
    "print(c)\n",
    "print(g)\n",
    "print(g.dtype)"
   ]
  },
  {
   "cell_type": "code",
   "execution_count": 154,
   "metadata": {},
   "outputs": [
    {
     "name": "stdout",
     "output_type": "stream",
     "text": [
      "[0 1 2 3 4 5 6 7 8]\n",
      "[1 2 3 4]\n",
      "[1 2 3 4 5 6 7 8]\n",
      "[0 1 2 3 4 5 6 7 8]\n",
      "[1 3 5 7]\n"
     ]
    }
   ],
   "source": [
    "import numpy as np\n",
    "x=np.arange(9)\n",
    "print(c)\n",
    "y=x[1:5]\n",
    "print(y)\n",
    "y=x[1:]\n",
    "print(y)\n",
    "y=x[:]\n",
    "print(y)\n",
    "y=x[1:8:2]\n",
    "print(y)"
   ]
  },
  {
   "cell_type": "code",
   "execution_count": 165,
   "metadata": {},
   "outputs": [
    {
     "name": "stdout",
     "output_type": "stream",
     "text": [
      "[[ 0  1  2  3  4]\n",
      " [ 5  6  7  8  9]\n",
      " [10 11 12 13 14]\n",
      " [15 16 17 18 19]]\n",
      "[[ 6  7  8]\n",
      " [11 12 13]]\n"
     ]
    }
   ],
   "source": [
    "import numpy as np\n",
    "a=np.arange(20).reshape(4,5)\n",
    "print(a)\n",
    "#=a[rw,col]\n",
    "c=a[1:3,1:4]\n",
    "print(c)"
   ]
  },
  {
   "cell_type": "code",
   "execution_count": 171,
   "metadata": {},
   "outputs": [
    {
     "name": "stdout",
     "output_type": "stream",
     "text": [
      "[[11 12 13 14 15]\n",
      " [16 17 18 19 20]\n",
      " [21 22 23 24 25]\n",
      " [26 27 28 29 30]\n",
      " [31 32 33 34 35]\n",
      " [36 37 38 39 40]\n",
      " [41 42 43 44 45]\n",
      " [46 47 48 49 50]\n",
      " [51 52 53 54 55]]\n",
      "[[13 14 15]\n",
      " [18 19 20]\n",
      " [23 24 25]]\n"
     ]
    }
   ],
   "source": [
    "import numpy as np\n",
    "a=np.arange(11,56).reshape(9,5)\n",
    "print(a)\n",
    "#=a[rw,col]\n",
    "c=a[:3,2:]\n",
    "print(c)"
   ]
  },
  {
   "cell_type": "code",
   "execution_count": null,
   "metadata": {
    "collapsed": true
   },
   "outputs": [],
   "source": []
  }
 ],
 "metadata": {
  "kernelspec": {
   "display_name": "Python 3",
   "language": "python",
   "name": "python3"
  },
  "language_info": {
   "codemirror_mode": {
    "name": "ipython",
    "version": 3
   },
   "file_extension": ".py",
   "mimetype": "text/x-python",
   "name": "python",
   "nbconvert_exporter": "python",
   "pygments_lexer": "ipython3",
   "version": "3.6.3"
  }
 },
 "nbformat": 4,
 "nbformat_minor": 2
}
