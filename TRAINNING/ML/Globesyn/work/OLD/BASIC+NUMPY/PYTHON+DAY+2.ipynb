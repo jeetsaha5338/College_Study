{
 "cells": [
  {
   "cell_type": "code",
   "execution_count": 16,
   "metadata": {},
   "outputs": [
    {
     "name": "stdout",
     "output_type": "stream",
     "text": [
      "100100\n",
      "10.0\n"
     ]
    }
   ],
   "source": [
    "a=100\n",
    "b=\"100\"\n",
    "print(b*2)\n",
    "print(a/10)\n",
    "\n"
   ]
  },
  {
   "cell_type": "code",
   "execution_count": 30,
   "metadata": {},
   "outputs": [
    {
     "name": "stdout",
     "output_type": "stream",
     "text": [
      "hello world\n",
      "hello world\n",
      "ell\n",
      "world\n",
      "hello\n"
     ]
    }
   ],
   "source": [
    "str_1 = \"hello world\"\n",
    "str_2 = \"hello world\"\n",
    "print(str_1)\n",
    "print(str_2)\n",
    "print(str_1[1:4])\n",
    "print(str_1[6:])\n",
    "print(str_2[:5])\n"
   ]
  },
  {
   "cell_type": "code",
   "execution_count": 31,
   "metadata": {},
   "outputs": [
    {
     "name": "stdout",
     "output_type": "stream",
     "text": [
      "hello world\n"
     ]
    }
   ],
   "source": [
    "print(str_1)"
   ]
  },
  {
   "cell_type": "code",
   "execution_count": 43,
   "metadata": {},
   "outputs": [
    {
     "name": "stdout",
     "output_type": "stream",
     "text": [
      "hello world\n",
      "hello world\n",
      "PYTHON\n"
     ]
    }
   ],
   "source": [
    "print(str_1  + \"\\n\" + str_2 + \"\\nPYTHON\")"
   ]
  },
  {
   "cell_type": "code",
   "execution_count": 44,
   "metadata": {},
   "outputs": [
    {
     "name": "stdout",
     "output_type": "stream",
     "text": [
      "5\n",
      "2.5\n",
      "(2+3j)\n"
     ]
    }
   ],
   "source": [
    "i=5\n",
    "j=2.5\n",
    "k=2+3j\n",
    "print(i)\n",
    "print(j)\n",
    "print(k)\n"
   ]
  },
  {
   "cell_type": "code",
   "execution_count": 80,
   "metadata": {},
   "outputs": [
    {
     "name": "stdout",
     "output_type": "stream",
     "text": [
      "[1, 'HELLO', 2.5]\n",
      "['abcd', 'HELLO', 12.5, 'SPANDAN', 'rm', 2]\n",
      "['abcd', 'HELLO', 12.5, 'SPANDAN', 'rm', 2, ['rm', 2]]\n",
      "['HELLO', 12.5]\n",
      "['abcd', 'HELLO', 12.5, 'SPANDAN', 'rm', 2, ['rm', 2]]\n",
      "[['rm', 2], 2, 'rm', 'SPANDAN', 12.5, 'HELLO', 'abcd']\n"
     ]
    }
   ],
   "source": [
    "list1=[1,'HELLO',2.5]\n",
    "print(list1)\n",
    "list1[0]='abcd'\n",
    "list1[2]=list1[2]*5\n",
    "list1.append('SPANDAN')\n",
    "xyz=['rm',2]\n",
    "list1.extend(xyz)\n",
    "print(list1)\n",
    "list1.append(xyz)\n",
    "print(list1)\n",
    "print(list1[1:3])\n",
    "print(list1[:])\n",
    "print(list1[6::-1])\n"
   ]
  },
  {
   "cell_type": "code",
   "execution_count": 81,
   "metadata": {},
   "outputs": [
    {
     "name": "stdout",
     "output_type": "stream",
     "text": [
      "['abcd', 'HELLO', 12.5, 'SPANDAN', 'rm', 2, ['rm', 2], 'rm', 2]\n"
     ]
    }
   ],
   "source": [
    "print(list1 + xyz)"
   ]
  },
  {
   "cell_type": "code",
   "execution_count": 89,
   "metadata": {},
   "outputs": [
    {
     "name": "stdout",
     "output_type": "stream",
     "text": [
      "A is 0\n"
     ]
    }
   ],
   "source": [
    "a=-0\n",
    "if a>0 :\n",
    "    print('+VE')\n",
    "elif a==0 :\n",
    "    print('A is 0')\n",
    "else :\n",
    "    print('-VE')"
   ]
  },
  {
   "cell_type": "code",
   "execution_count": 90,
   "metadata": {},
   "outputs": [
    {
     "name": "stdout",
     "output_type": "stream",
     "text": [
      "welcome\n",
      "TO\n",
      "PYTHON\n"
     ]
    }
   ],
   "source": [
    "for word in ['welcome','TO','PYTHON'] :\n",
    "    print(word)"
   ]
  },
  {
   "cell_type": "code",
   "execution_count": 97,
   "metadata": {},
   "outputs": [
    {
     "name": "stdout",
     "output_type": "stream",
     "text": [
      "1\n",
      "2\n",
      "3\n",
      "4\n",
      "5\n",
      "6\n",
      "7\n",
      "8\n"
     ]
    }
   ],
   "source": [
    "list=[1,2,3,4,5,6,7,8]\n",
    "for word in list :\n",
    "    print(word)"
   ]
  },
  {
   "cell_type": "code",
   "execution_count": 106,
   "metadata": {},
   "outputs": [
    {
     "name": "stdout",
     "output_type": "stream",
     "text": [
      "The count is  1\n",
      "The count is  2\n",
      "The count is  3\n",
      "The count is  4\n",
      "The count is  5\n",
      "The count is  6\n",
      "The count is  7\n",
      "The count is  8\n",
      "The count is  9\n",
      "The count is  10\n"
     ]
    }
   ],
   "source": [
    "count=1\n",
    "while (count<=10) :\n",
    "    print(\"The count is \",count)\n",
    "    count= count+1\n",
    "    "
   ]
  },
  {
   "cell_type": "code",
   "execution_count": 109,
   "metadata": {},
   "outputs": [
    {
     "name": "stdout",
     "output_type": "stream",
     "text": [
      "learn from your \n",
      "MISTAKE\n"
     ]
    }
   ],
   "source": [
    "def A(a) :\n",
    "    print('learn from your ' +a)\n",
    "A('\\nMISTAKE')"
   ]
  },
  {
   "cell_type": "code",
   "execution_count": 110,
   "metadata": {},
   "outputs": [
    {
     "name": "stdout",
     "output_type": "stream",
     "text": [
      "20\n",
      "abcabc\n"
     ]
    }
   ],
   "source": [
    "def A(a) :\n",
    "    print(a*2)\n",
    "A(10)\n",
    "A('abc')"
   ]
  },
  {
   "cell_type": "code",
   "execution_count": 114,
   "metadata": {},
   "outputs": [
    {
     "name": "stdout",
     "output_type": "stream",
     "text": [
      "abc\n",
      "xyz\n",
      "abc\n"
     ]
    }
   ],
   "source": [
    "def A(a) :\n",
    "    print(a) \n",
    "    a='xyz'\n",
    "    print(a)\n",
    "aa='abc'\n",
    "A(aa)\n",
    "print(aa)"
   ]
  },
  {
   "cell_type": "code",
   "execution_count": 116,
   "metadata": {},
   "outputs": [
    {
     "name": "stdout",
     "output_type": "stream",
     "text": [
      "['abc', 500, 'xyz']\n",
      "['abc', 500, 'xyz']\n"
     ]
    }
   ],
   "source": [
    "def A(a) :\n",
    "    print(a) \n",
    "    #a='xyz'\n",
    "   # print(a)\n",
    "aa=['abc',500,'xyz']\n",
    "A(aa)\n",
    "print(aa)"
   ]
  },
  {
   "cell_type": "code",
   "execution_count": 1,
   "metadata": {},
   "outputs": [
    {
     "name": "stdout",
     "output_type": "stream",
     "text": [
      "['abc', 500, 'xyz']\n",
      "['abc', 50, 'xyz']\n",
      "['abc', 500, 'xyz']\n"
     ]
    }
   ],
   "source": [
    "def A(a) :\n",
    "    print(a)\n",
    "    a=['abc',50,'xyz']\n",
    "    print(a) \n",
    "aa=['abc',500,'xyz']\n",
    "A(aa)\n",
    "print(aa)"
   ]
  },
  {
   "cell_type": "code",
   "execution_count": null,
   "metadata": {
    "collapsed": true
   },
   "outputs": [],
   "source": []
  }
 ],
 "metadata": {
  "kernelspec": {
   "display_name": "Python 3",
   "language": "python",
   "name": "python3"
  },
  "language_info": {
   "codemirror_mode": {
    "name": "ipython",
    "version": 3
   },
   "file_extension": ".py",
   "mimetype": "text/x-python",
   "name": "python",
   "nbconvert_exporter": "python",
   "pygments_lexer": "ipython3",
   "version": "3.6.3"
  }
 },
 "nbformat": 4,
 "nbformat_minor": 2
}
