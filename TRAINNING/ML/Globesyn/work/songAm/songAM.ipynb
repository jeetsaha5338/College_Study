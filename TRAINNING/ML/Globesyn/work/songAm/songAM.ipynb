{
 "cells": [
  {
   "cell_type": "code",
   "execution_count": 1,
   "metadata": {},
   "outputs": [
    {
     "name": "stdout",
     "output_type": "stream",
     "text": [
      "['E:\\\\mlaudiotest1\\\\ArijitRafi_train\\\\AS_06.wav', 'E:\\\\mlaudiotest1\\\\ArijitRafi_train\\\\AS_07.wav', 'E:\\\\mlaudiotest1\\\\ArijitRafi_train\\\\AS_08.wav', 'E:\\\\mlaudiotest1\\\\ArijitRafi_train\\\\AS_09.wav', 'E:\\\\mlaudiotest1\\\\ArijitRafi_train\\\\AS_10.wav', 'E:\\\\mlaudiotest1\\\\ArijitRafi_train\\\\AS_11.wav', 'E:\\\\mlaudiotest1\\\\ArijitRafi_train\\\\AS_12.wav', 'E:\\\\mlaudiotest1\\\\ArijitRafi_train\\\\AS_13.wav', 'E:\\\\mlaudiotest1\\\\ArijitRafi_train\\\\AS_14.wav', 'E:\\\\mlaudiotest1\\\\ArijitRafi_train\\\\AS_15.wav', 'E:\\\\mlaudiotest1\\\\ArijitRafi_train\\\\MR_06.wav', 'E:\\\\mlaudiotest1\\\\ArijitRafi_train\\\\MR_07.wav', 'E:\\\\mlaudiotest1\\\\ArijitRafi_train\\\\MR_08.wav', 'E:\\\\mlaudiotest1\\\\ArijitRafi_train\\\\MR_09.wav', 'E:\\\\mlaudiotest1\\\\ArijitRafi_train\\\\MR_10.wav', 'E:\\\\mlaudiotest1\\\\ArijitRafi_train\\\\MR_11.wav', 'E:\\\\mlaudiotest1\\\\ArijitRafi_train\\\\MR_12.wav', 'E:\\\\mlaudiotest1\\\\ArijitRafi_train\\\\MR_13.wav', 'E:\\\\mlaudiotest1\\\\ArijitRafi_train\\\\MR_14.wav', 'E:\\\\mlaudiotest1\\\\ArijitRafi_train\\\\MR_15.wav']\n",
      "21540\n",
      "Reading: E:\\mlaudiotest1\\ArijitRafi_train\\AS_06.wav\n",
      "Reading: E:\\mlaudiotest1\\ArijitRafi_train\\AS_07.wav\n",
      "Reading: E:\\mlaudiotest1\\ArijitRafi_train\\AS_08.wav\n",
      "Reading: E:\\mlaudiotest1\\ArijitRafi_train\\AS_09.wav\n",
      "Reading: E:\\mlaudiotest1\\ArijitRafi_train\\AS_10.wav\n",
      "Reading: E:\\mlaudiotest1\\ArijitRafi_train\\AS_11.wav\n",
      "Reading: E:\\mlaudiotest1\\ArijitRafi_train\\AS_12.wav\n",
      "Reading: E:\\mlaudiotest1\\ArijitRafi_train\\AS_13.wav\n",
      "Reading: E:\\mlaudiotest1\\ArijitRafi_train\\AS_14.wav\n",
      "Reading: E:\\mlaudiotest1\\ArijitRafi_train\\AS_15.wav\n",
      "Reading: E:\\mlaudiotest1\\ArijitRafi_train\\MR_06.wav\n",
      "Reading: E:\\mlaudiotest1\\ArijitRafi_train\\MR_07.wav\n",
      "Reading: E:\\mlaudiotest1\\ArijitRafi_train\\MR_08.wav\n",
      "Reading: E:\\mlaudiotest1\\ArijitRafi_train\\MR_09.wav\n",
      "Reading: E:\\mlaudiotest1\\ArijitRafi_train\\MR_10.wav\n",
      "Reading: E:\\mlaudiotest1\\ArijitRafi_train\\MR_11.wav\n",
      "Reading: E:\\mlaudiotest1\\ArijitRafi_train\\MR_12.wav\n",
      "Reading: E:\\mlaudiotest1\\ArijitRafi_train\\MR_13.wav\n",
      "Reading: E:\\mlaudiotest1\\ArijitRafi_train\\MR_14.wav\n",
      "Reading: E:\\mlaudiotest1\\ArijitRafi_train\\MR_15.wav\n",
      "(20, 21540)\n"
     ]
    }
   ],
   "source": [
    "import glob\n",
    "\n",
    "import numpy as np\n",
    "files_tr = glob.glob(\"E:\\mlaudiotest1\\ArijitRafi_train\\*.wav\")\n",
    "print(files_tr)\n",
    "import librosa\n",
    "\n",
    "y,sr= librosa.load(files_tr[0])\n",
    "s= librosa.feature.mfcc(y,sr=sr)\n",
    "s = s.flatten()\n",
    "print(s.size)\n",
    "\n",
    "arr_train = np.empty((s.size))\n",
    "\n",
    "for file in files_tr:\n",
    "    print(\"Reading: \" + file)\n",
    "    y1,sr1= librosa.load(file)\n",
    "    s1= librosa.feature.mfcc(y,sr=sr1)\n",
    "    s1 = s1.flatten()\n",
    "    arr_train = np.vstack((arr_train,s1))\n",
    "print(arr_train[1:,].shape)\n"
   ]
  },
  {
   "cell_type": "code",
   "execution_count": null,
   "metadata": {},
   "outputs": [],
   "source": []
  }
 ],
 "metadata": {
  "kernelspec": {
   "display_name": "Python 3",
   "language": "python",
   "name": "python3"
  },
  "language_info": {
   "codemirror_mode": {
    "name": "ipython",
    "version": 3
   },
   "file_extension": ".py",
   "mimetype": "text/x-python",
   "name": "python",
   "nbconvert_exporter": "python",
   "pygments_lexer": "ipython3",
   "version": "3.6.4"
  }
 },
 "nbformat": 4,
 "nbformat_minor": 2
}
